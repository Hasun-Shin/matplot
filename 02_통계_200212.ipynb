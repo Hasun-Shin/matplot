{
 "cells": [
  {
   "attachments": {},
   "cell_type": "markdown",
   "metadata": {},
   "source": [
    "prediction : 현재 또는 과거에 대한 진단, 평가 및 추측\n",
    "\n",
    "forecating : 미래 예측 . 시간을 다룸 . (시계열 데이터, 시계열 학습)\n",
    "\n",
    "통계학이란 관심의 대상이 되는 자료를 수집,정리,분석하여 올바른 정보를 추출하고 이를 토대로 불확실한 사실에 대해 합리적인 판단을 내리며 미래를 예측하는 방법을 연구하는 학문\n",
    "\n",
    "범위(range), 분산(variance), 표준편차(standard deviation), IQR(Inter quartile Range) 은 데이터의 변동성을 나타내기 위해 사용되는 척도이다. (변동량)\n"
   ]
  }
 ],
 "metadata": {
  "kernelspec": {
   "display_name": "Python 3",
   "language": "python",
   "name": "python3"
  },
  "language_info": {
   "codemirror_mode": {
    "name": "ipython",
    "version": 3
   },
   "file_extension": ".py",
   "mimetype": "text/x-python",
   "name": "python",
   "nbconvert_exporter": "python",
   "pygments_lexer": "ipython3",
   "version": "3.7.4"
  }
 },
 "nbformat": 4,
 "nbformat_minor": 2
}
